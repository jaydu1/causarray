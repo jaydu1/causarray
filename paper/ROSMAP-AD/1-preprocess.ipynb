{
 "cells": [
  {
   "cell_type": "code",
   "execution_count": 1,
   "metadata": {
    "vscode": {
     "languageId": "r"
    }
   },
   "outputs": [
    {
     "name": "stderr",
     "output_type": "stream",
     "text": [
      "Loading required package: SeuratObject\n",
      "\n",
      "Loading required package: sp\n",
      "\n",
      "Loading required package: sp\n",
      "\n",
      "‘SeuratObject’ was built under R 4.3.2 but the current version is\n",
      "4.3.3; it is recomended that you reinstall ‘SeuratObject’ as the ABI\n",
      "for R may have changed\n",
      "\n",
      "‘SeuratObject’ was built with package ‘Matrix’ 1.6.3 but the current\n",
      "version is 1.6.5; it is recomended that you reinstall ‘SeuratObject’ as\n",
      "the ABI for ‘Matrix’ may have changed\n",
      "\n",
      "\n",
      "Attaching package: ‘SeuratObject’\n",
      "\n",
      "\n",
      "The following object is masked from ‘package:base’:\n",
      "\n",
      "    intersect\n",
      "\n",
      "\n",
      "Loading required package: S4Vectors\n",
      "\n",
      "Loading required package: stats4\n",
      "\n",
      "Loading required package: BiocGenerics\n",
      "\n",
      "\n",
      "Attaching package: ‘BiocGenerics’\n",
      "\n",
      "\n",
      "The following object is masked from ‘package:SeuratObject’:\n",
      "\n",
      "    intersect\n",
      "\n",
      "\n",
      "The following objects are masked from ‘package:stats’:\n",
      "\n",
      "    IQR, mad, sd, var, xtabs\n",
      "\n",
      "\n",
      "The following objects are masked from ‘package:base’:\n",
      "\n",
      "    anyDuplicated, aperm, append, as.data.frame, basename, cbind,\n",
      "    colnames, dirname, do.call, duplicated, eval, evalq, Filter, Find,\n",
      "    get, grep, grepl, intersect, is.unsorted, lapply, Map, mapply,\n",
      "    match, mget, order, paste, pmax, pmax.int, pmin, pmin.int,\n",
      "    Position, rank, rbind, Reduce, rownames, sapply, setdiff, sort,\n",
      "    table, tapply, union, unique, unsplit, which.max, which.min\n",
      "\n",
      "\n",
      "\n",
      "Attaching package: ‘S4Vectors’\n",
      "\n",
      "\n",
      "The following object is masked from ‘package:utils’:\n",
      "\n",
      "    findMatches\n",
      "\n",
      "\n",
      "The following objects are masked from ‘package:base’:\n",
      "\n",
      "    expand.grid, I, unname\n",
      "\n",
      "\n",
      "Loading required package: IRanges\n",
      "\n",
      "\n",
      "Attaching package: ‘IRanges’\n",
      "\n",
      "\n",
      "The following object is masked from ‘package:sp’:\n",
      "\n",
      "    %over%\n",
      "\n",
      "\n",
      "Loading required package: GenomicRanges\n",
      "\n",
      "Loading required package: GenomeInfoDb\n",
      "\n",
      "Loading required package: SummarizedExperiment\n",
      "\n",
      "Loading required package: MatrixGenerics\n",
      "\n",
      "Loading required package: matrixStats\n",
      "\n",
      "\n",
      "Attaching package: ‘MatrixGenerics’\n",
      "\n",
      "\n",
      "The following objects are masked from ‘package:matrixStats’:\n",
      "\n",
      "    colAlls, colAnyNAs, colAnys, colAvgsPerRowSet, colCollapse,\n",
      "    colCounts, colCummaxs, colCummins, colCumprods, colCumsums,\n",
      "    colDiffs, colIQRDiffs, colIQRs, colLogSumExps, colMadDiffs,\n",
      "    colMads, colMaxs, colMeans2, colMedians, colMins, colOrderStats,\n",
      "    colProds, colQuantiles, colRanges, colRanks, colSdDiffs, colSds,\n",
      "    colSums2, colTabulates, colVarDiffs, colVars, colWeightedMads,\n",
      "    colWeightedMeans, colWeightedMedians, colWeightedSds,\n",
      "    colWeightedVars, rowAlls, rowAnyNAs, rowAnys, rowAvgsPerColSet,\n",
      "    rowCollapse, rowCounts, rowCummaxs, rowCummins, rowCumprods,\n",
      "    rowCumsums, rowDiffs, rowIQRDiffs, rowIQRs, rowLogSumExps,\n",
      "    rowMadDiffs, rowMads, rowMaxs, rowMeans2, rowMedians, rowMins,\n",
      "    rowOrderStats, rowProds, rowQuantiles, rowRanges, rowRanks,\n",
      "    rowSdDiffs, rowSds, rowSums2, rowTabulates, rowVarDiffs, rowVars,\n",
      "    rowWeightedMads, rowWeightedMeans, rowWeightedMedians,\n",
      "    rowWeightedSds, rowWeightedVars\n",
      "\n",
      "\n",
      "Loading required package: Biobase\n",
      "\n",
      "Welcome to Bioconductor\n",
      "\n",
      "    Vignettes contain introductory material; view with\n",
      "    'browseVignettes()'. To cite Bioconductor, see\n",
      "    'citation(\"Biobase\")', and for packages 'citation(\"pkgname\")'.\n",
      "\n",
      "\n",
      "\n",
      "Attaching package: ‘Biobase’\n",
      "\n",
      "\n",
      "The following object is masked from ‘package:MatrixGenerics’:\n",
      "\n",
      "    rowMedians\n",
      "\n",
      "\n",
      "The following objects are masked from ‘package:matrixStats’:\n",
      "\n",
      "    anyMissing, rowMedians\n",
      "\n",
      "\n",
      "\n",
      "Attaching package: ‘SummarizedExperiment’\n",
      "\n",
      "\n",
      "The following object is masked from ‘package:Seurat’:\n",
      "\n",
      "    Assays\n",
      "\n",
      "\n",
      "The following object is masked from ‘package:SeuratObject’:\n",
      "\n",
      "    Assays\n",
      "\n",
      "\n",
      "qs 0.25.7\n",
      "\n",
      "\n",
      "Attaching package: ‘dplyr’\n",
      "\n",
      "\n",
      "The following object is masked from ‘package:Biobase’:\n",
      "\n",
      "    combine\n",
      "\n",
      "\n",
      "The following object is masked from ‘package:matrixStats’:\n",
      "\n",
      "    count\n",
      "\n",
      "\n",
      "The following objects are masked from ‘package:GenomicRanges’:\n",
      "\n",
      "    intersect, setdiff, union\n",
      "\n",
      "\n",
      "The following object is masked from ‘package:GenomeInfoDb’:\n",
      "\n",
      "    intersect\n",
      "\n",
      "\n",
      "The following objects are masked from ‘package:IRanges’:\n",
      "\n",
      "    collapse, desc, intersect, setdiff, slice, union\n",
      "\n",
      "\n",
      "The following objects are masked from ‘package:S4Vectors’:\n",
      "\n",
      "    first, intersect, rename, setdiff, setequal, union\n",
      "\n",
      "\n",
      "The following objects are masked from ‘package:BiocGenerics’:\n",
      "\n",
      "    combine, intersect, setdiff, union\n",
      "\n",
      "\n",
      "The following objects are masked from ‘package:stats’:\n",
      "\n",
      "    filter, lag\n",
      "\n",
      "\n",
      "The following objects are masked from ‘package:base’:\n",
      "\n",
      "    intersect, setdiff, setequal, union\n",
      "\n",
      "\n"
     ]
    }
   ],
   "source": [
    "Sys.setenv(\"OMP_NUM_THREADS\" = 32)\n",
    "Sys.setenv(\"OPENBLAS_NUM_THREADS\" = 32)\n",
    "Sys.setenv(\"MKL_NUM_THREADS\" = 32)\n",
    "Sys.setenv(\"VECLIB_MAXIMUM_THREADS\" = 32)\n",
    "Sys.setenv(\"NUMEXPR_NUM_THREADS\" = 32)\n",
    "\n",
    "library(Seurat)\n",
    "library(SeuratObject)\n",
    "library(DESeq2)\n",
    "library(ggplot2)\n",
    "library(scales)\n",
    "library(qs)\n",
    "library(dplyr)\n"
   ]
  },
  {
   "cell_type": "markdown",
   "metadata": {},
   "source": [
    "# Merge 3 subsets"
   ]
  },
  {
   "cell_type": "code",
   "execution_count": 2,
   "metadata": {
    "vscode": {
     "languageId": "r"
    }
   },
   "outputs": [
    {
     "name": "stderr",
     "output_type": "stream",
     "text": [
      "Warning message:\n",
      "“Resetting the data matrix to the raw counts”\n"
     ]
    },
    {
     "name": "stdout",
     "output_type": "stream",
     "text": [
      "33538 296936 \n"
     ]
    },
    {
     "name": "stderr",
     "output_type": "stream",
     "text": [
      "Warning message:\n",
      "“Resetting the data matrix to the raw counts”\n"
     ]
    },
    {
     "name": "stdout",
     "output_type": "stream",
     "text": [
      "33538 421529 \n"
     ]
    },
    {
     "name": "stderr",
     "output_type": "stream",
     "text": [
      "Warning message:\n",
      "“Resetting the data matrix to the raw counts”\n"
     ]
    },
    {
     "name": "stdout",
     "output_type": "stream",
     "text": [
      "33538 324765 \n",
      "33538 176219 \n"
     ]
    }
   ],
   "source": [
    "path_data = ''\n",
    "\n",
    "ROSMAP <- read.csv(paste0(path_data, 'ROSMAP_clinical.csv'))\n",
    "rownames(ROSMAP) <- ROSMAP$projid\n",
    "\n",
    "data_list <- list()\n",
    "for(exneuset in c(1:3)){\n",
    "    data <- readRDS(paste0(path_data, 'Excitatory_neurons_set', exneuset,'.rds'))\n",
    "    data[['RNA']]$data <- NULL\n",
    "    cat(dim(data[['RNA']]$counts), '\\n')\n",
    "    if(exneuset==3){\n",
    "        data <- subset(data, subset = (cell_type_high_resolution != 'Exc RELN CHD7') & (cell_type_high_resolution != 'Exc NRGN'))\n",
    "        cat(dim(data[['RNA']]$counts), '\\n')\n",
    "    }    \n",
    "    meta <- ROSMAP[match(data@meta.data$projid, ROSMAP$projid),]\n",
    "    data@meta.data <- cbind(data@meta.data, meta[,-1])\n",
    "\n",
    "    data_list[[exneuset]] <- data\n",
    "}"
   ]
  },
  {
   "cell_type": "code",
   "execution_count": 3,
   "metadata": {
    "vscode": {
     "languageId": "r"
    }
   },
   "outputs": [],
   "source": [
    "# Extract metadata from the first three elements of the list\n",
    "metadata1 <- data_list[[1]]@meta.data\n",
    "metadata2 <- data_list[[2]]@meta.data\n",
    "metadata3 <- data_list[[3]]@meta.data\n",
    "\n",
    "# Add a column to indicate the source\n",
    "metadata1$source <- 1\n",
    "metadata2$source <- 2\n",
    "metadata3$source <- 3\n",
    "\n",
    "# Concatenate the metadata\n",
    "combined_metadata <- rbind(metadata1, metadata2, metadata3)"
   ]
  },
  {
   "cell_type": "code",
   "execution_count": 5,
   "metadata": {
    "vscode": {
     "languageId": "r"
    }
   },
   "outputs": [
    {
     "data": {
      "text/html": [
       "12"
      ],
      "text/latex": [
       "12"
      ],
      "text/markdown": [
       "12"
      ],
      "text/plain": [
       "[1] 12"
      ]
     },
     "metadata": {},
     "output_type": "display_data"
    }
   ],
   "source": [
    "length(unique(combined_metadata$cell_type_high_resolution))"
   ]
  },
  {
   "cell_type": "code",
   "execution_count": 6,
   "metadata": {
    "vscode": {
     "languageId": "r"
    }
   },
   "outputs": [],
   "source": [
    "set.seed(0)\n",
    "\n",
    "# Initialize an empty vector to store subsampled indices\n",
    "subsampled_indices <- c()\n",
    "\n",
    "# Loop through each unique donor_id and sample 300 cells\n",
    "for (donor in unique(combined_metadata$projid)) {\n",
    "  donor_indices <- which(combined_metadata$projid == donor)\n",
    "  if (length(donor_indices) > 300) {\n",
    "    sampled_indices <- sample(donor_indices, 300, replace = FALSE)\n",
    "  } else {\n",
    "    sampled_indices <- donor_indices\n",
    "  }\n",
    "  subsampled_indices <- c(subsampled_indices, sampled_indices)\n",
    "}\n",
    "\n",
    "# Convert the vector to a numeric vector (if needed)\n",
    "subsampled_indices <- as.numeric(subsampled_indices)"
   ]
  },
  {
   "cell_type": "code",
   "execution_count": 7,
   "metadata": {
    "vscode": {
     "languageId": "r"
    }
   },
   "outputs": [
    {
     "name": "stderr",
     "output_type": "stream",
     "text": [
      "\n",
      "Attaching package: ‘gridExtra’\n",
      "\n",
      "\n",
      "The following object is masked from ‘package:dplyr’:\n",
      "\n",
      "    combine\n",
      "\n",
      "\n",
      "The following object is masked from ‘package:Biobase’:\n",
      "\n",
      "    combine\n",
      "\n",
      "\n",
      "The following object is masked from ‘package:BiocGenerics’:\n",
      "\n",
      "    combine\n",
      "\n",
      "\n"
     ]
    },
    {
     "data": {
      "image/png": "[encoded data removed]",
      "text/plain": [
       "plot without title"
      ]
     },
     "metadata": {
      "image/png": {
       "height": 240,
       "width": 600
      }
     },
     "output_type": "display_data"
    }
   ],
   "source": [
    "library(ggplot2)\n",
    "library(gridExtra)\n",
    "library(repr)\n",
    "\n",
    "# Set the figure size\n",
    "options(repr.plot.width = 10, repr.plot.height = 4)\n",
    "\n",
    "# Full dataset plot\n",
    "p1 <- ggplot(combined_metadata, aes(x = factor(cell_type_high_resolution, levels = names(sort(table(cell_type_high_resolution), decreasing = TRUE))))) +\n",
    "  geom_bar() +\n",
    "  theme(axis.text.x = element_text(angle = 90, hjust = 1)) +\n",
    "  xlab('Subtypes') +\n",
    "  ylab('Count') +\n",
    "  ggtitle('Full dataset')\n",
    "\n",
    "# Subsampled dataset plot\n",
    "p2 <- ggplot(combined_metadata[subsampled_indices, ], aes(x = factor(cell_type_high_resolution, levels = names(sort(table(cell_type_high_resolution), decreasing = TRUE))))) +\n",
    "  geom_bar() +\n",
    "  theme(axis.text.x = element_text(angle = 90, hjust = 1)) +\n",
    "  xlab('Subtypes') +\n",
    "  ylab('') +\n",
    "  ggtitle('Subsample dataset')\n",
    "\n",
    "# Arrange the plots side by side\n",
    "grid.arrange(p1, p2, ncol = 2, widths = c(8, 8), heights = c(4))"
   ]
  },
  {
   "cell_type": "code",
   "execution_count": 8,
   "metadata": {
    "vscode": {
     "languageId": "r"
    }
   },
   "outputs": [],
   "source": [
    "# Initialize an empty list to store subsetted Seurat objects\n",
    "subsetted_seurat_list <- list()\n",
    "\n",
    "# Loop through each Seurat object and subset using subsampled_indices\n",
    "for (i in 1:length(data_list)) {\n",
    "  subsetted_seurat <- subset(data_list[[i]], cells = rownames(combined_metadata[subsampled_indices, ][combined_metadata[subsampled_indices, ]$source==i,]))\n",
    "  subsetted_seurat_list[[i]] <- subsetted_seurat\n",
    "}\n",
    "\n",
    "# Merge the subsetted Seurat objects into a single Seurat object\n",
    "data_subsample <- Reduce(function(x, y) merge(x, y), subsetted_seurat_list)\n",
    "\n",
    "# Now merged_seurat contains the merged data from the subsetted Seurat objects"
   ]
  },
  {
   "cell_type": "code",
   "execution_count": 9,
   "metadata": {
    "vscode": {
     "languageId": "r"
    }
   },
   "outputs": [
    {
     "data": {
      "text/plain": [
       "An object of class Seurat \n",
       "33538 features across 124997 samples within 1 assay \n",
       "Active assay: RNA (33538 features, 0 variable features)\n",
       " 2 layers present: counts, data"
      ]
     },
     "metadata": {},
     "output_type": "display_data"
    }
   ],
   "source": [
    "data_subsample"
   ]
  },
  {
   "cell_type": "code",
   "execution_count": 10,
   "metadata": {
    "vscode": {
     "languageId": "r"
    }
   },
   "outputs": [],
   "source": [
    "saveRDS(data_subsample, paste0(path_data, \"exneu_sc_subsample.rds\"))"
   ]
  },
  {
   "cell_type": "markdown",
   "metadata": {},
   "source": [
    "# Pseudobulk"
   ]
  },
  {
   "cell_type": "code",
   "execution_count": 11,
   "metadata": {
    "vscode": {
     "languageId": "r"
    }
   },
   "outputs": [],
   "source": [
    "set_meta_pb <- function(data, metadata, ind_name, cov_names){\n",
    "    metadata[,ind_name] <- gsub(metadata[,c(ind_name)], pattern = \"_\", replacement = \"-\")\n",
    "    metadata$index <- as.character(metadata[,ind_name])\n",
    "    \n",
    "    metadata <- metadata[!duplicated(metadata$index),][,c('index',cov_names)]\n",
    "    rownames(metadata) <- metadata$index\n",
    "    metadata <- metadata[data@meta.data$orig.ident,]\n",
    "    \n",
    "    data@meta.data[,cov_names] <- metadata[,cov_names]\n",
    "    data\n",
    "}"
   ]
  },
  {
   "cell_type": "code",
   "execution_count": 12,
   "metadata": {
    "vscode": {
     "languageId": "r"
    }
   },
   "outputs": [
    {
     "name": "stderr",
     "output_type": "stream",
     "text": [
      "First group.by variable `projid` starts with a number, appending `g` to ensure valid variable names\n",
      "\u001b[90mThis message is displayed once every 8 hours.\u001b[39m\n",
      "Centering and scaling data matrix\n",
      "\n"
     ]
    }
   ],
   "source": [
    "pb <- AggregateExpression(data_subsample, assays = \"RNA\", return.seurat = T, group.by = c(\"projid\"))\n",
    "pb@meta.data$projid <- gsub(pb@meta.data$projid,  pattern = \"g\", replacement = \"\")\n",
    "pb@meta.data$orig.ident <- pb@meta.data$projid\n",
    "\n",
    "pb <- set_meta_pb(pb, data_subsample@meta.data, \"projid\", c('age_first_ad_dx', 'msex', 'pmi', 'age_death', 'age_at_visit_max'))\n",
    "pb[['RNA']]$data <- NULL\n",
    "pb[['RNA']]$scale.data <- NULL"
   ]
  },
  {
   "cell_type": "code",
   "execution_count": 14,
   "metadata": {
    "vscode": {
     "languageId": "r"
    }
   },
   "outputs": [
    {
     "data": {
      "text/html": [
       "<style>\n",
       ".list-inline {list-style: none; margin:0; padding: 0}\n",
       ".list-inline>li {display: inline-block}\n",
       ".list-inline>li:not(:last-child)::after {content: \"\\00b7\"; padding: 0 .5ex}\n",
       "</style>\n",
       "<ol class=list-inline><li>33538</li><li>427</li></ol>\n"
      ],
      "text/latex": [
       "\\begin{enumerate*}\n",
       "\\item 33538\n",
       "\\item 427\n",
       "\\end{enumerate*}\n"
      ],
      "text/markdown": [
       "1. 33538\n",
       "2. 427\n",
       "\n",
       "\n"
      ],
      "text/plain": [
       "[1] 33538   427"
      ]
     },
     "metadata": {},
     "output_type": "display_data"
    }
   ],
   "source": [
    "pb <- pb[rowSums(pb[['RNA']]$counts>0) >= 0,]\n",
    "dim(pb)"
   ]
  },
  {
   "cell_type": "code",
   "execution_count": 15,
   "metadata": {
    "vscode": {
     "languageId": "r"
    }
   },
   "outputs": [
    {
     "data": {
      "text/html": [
       "<style>\n",
       ".list-inline {list-style: none; margin:0; padding: 0}\n",
       ".list-inline>li {display: inline-block}\n",
       ".list-inline>li:not(:last-child)::after {content: \"\\00b7\"; padding: 0 .5ex}\n",
       "</style>\n",
       "<ol class=list-inline><li>26106</li><li>427</li></ol>\n"
      ],
      "text/latex": [
       "\\begin{enumerate*}\n",
       "\\item 26106\n",
       "\\item 427\n",
       "\\end{enumerate*}\n"
      ],
      "text/markdown": [
       "1. 26106\n",
       "2. 427\n",
       "\n",
       "\n"
      ],
      "text/plain": [
       "[1] 26106   427"
      ]
     },
     "metadata": {},
     "output_type": "display_data"
    }
   ],
   "source": [
    "pb <- pb[rowSums(pb[['RNA']]$counts>1) >= 10,]\n",
    "dim(pb)"
   ]
  },
  {
   "cell_type": "code",
   "execution_count": 16,
   "metadata": {
    "vscode": {
     "languageId": "r"
    }
   },
   "outputs": [],
   "source": [
    "saveRDS(pb, paste0(path_data, \"exneu_pb.rds\"))"
   ]
  }
 ],
 "metadata": {
  "kernelspec": {
   "display_name": "R",
   "language": "R",
   "name": "ir"
  },
  "language_info": {
   "codemirror_mode": "r",
   "file_extension": ".r",
   "mimetype": "text/x-r-source",
   "name": "R",
   "pygments_lexer": "r",
   "version": "4.3.3"
  }
 },
 "nbformat": 4,
 "nbformat_minor": 2
}
